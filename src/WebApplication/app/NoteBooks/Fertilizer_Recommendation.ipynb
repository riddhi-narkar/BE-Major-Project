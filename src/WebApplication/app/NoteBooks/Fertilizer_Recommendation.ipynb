{
 "cells": [
  {
   "cell_type": "code",
   "execution_count": 1,
   "metadata": {
    "id": "7YRPdbKKaOtm"
   },
   "outputs": [],
   "source": [
    "import os\n",
    "import numpy as np\n",
    "import pandas as pd\n",
    "import matplotlib.pyplot as plt\n",
    "import seaborn as sns\n",
    "import imblearn\n",
    "from imblearn.over_sampling import SMOTE\n",
    "from collections import Counter"
   ]
  },
  {
   "cell_type": "code",
   "execution_count": 2,
   "metadata": {
    "id": "viSeQSBgaVL2"
   },
   "outputs": [],
   "source": [
    "from sklearn.preprocessing import StandardScaler, LabelEncoder\n",
    "from sklearn.pipeline import make_pipeline\n",
    "from sklearn.model_selection import train_test_split"
   ]
  },
  {
   "cell_type": "code",
   "execution_count": 3,
   "metadata": {
    "id": "0RV-kq30aY77"
   },
   "outputs": [],
   "source": [
    "from sklearn.neighbors import  KNeighborsClassifier\n",
    "from sklearn.ensemble import RandomForestClassifier\n",
    "from sklearn.svm import SVC\n",
    "import xgboost\n",
    "from xgboost import XGBClassifier"
   ]
  },
  {
   "cell_type": "code",
   "execution_count": 4,
   "metadata": {
    "id": "vNPVo9YlacHi"
   },
   "outputs": [],
   "source": [
    "from sklearn.metrics import accuracy_score, confusion_matrix\n",
    "import pickle\n",
    "import warnings\n",
    "warnings.filterwarnings(\"ignore\")\n",
    "%matplotlib inline"
   ]
  },
  {
   "cell_type": "code",
   "execution_count": 5,
   "metadata": {
    "id": "U36ML0VPbt0O"
   },
   "outputs": [],
   "source": [
    "DATA_PATH = \"Fertilizer Prediction.csv\""
   ]
  },
  {
   "cell_type": "code",
   "execution_count": 6,
   "metadata": {
    "colab": {
     "base_uri": "https://localhost:8080/",
     "height": 363
    },
    "id": "XH8JzrnYb_KC",
    "outputId": "57bf2abc-7cab-4ef5-ed71-c004d8929f94"
   },
   "outputs": [
    {
     "data": {
      "text/html": [
       "<div>\n",
       "<style scoped>\n",
       "    .dataframe tbody tr th:only-of-type {\n",
       "        vertical-align: middle;\n",
       "    }\n",
       "\n",
       "    .dataframe tbody tr th {\n",
       "        vertical-align: top;\n",
       "    }\n",
       "\n",
       "    .dataframe thead th {\n",
       "        text-align: right;\n",
       "    }\n",
       "</style>\n",
       "<table border=\"1\" class=\"dataframe\">\n",
       "  <thead>\n",
       "    <tr style=\"text-align: right;\">\n",
       "      <th></th>\n",
       "      <th>Temparature</th>\n",
       "      <th>Humidity</th>\n",
       "      <th>Moisture</th>\n",
       "      <th>Soil Type</th>\n",
       "      <th>Crop Type</th>\n",
       "      <th>Nitrogen</th>\n",
       "      <th>Potassium</th>\n",
       "      <th>Phosphorous</th>\n",
       "      <th>Fertilizer Name</th>\n",
       "    </tr>\n",
       "  </thead>\n",
       "  <tbody>\n",
       "    <tr>\n",
       "      <th>0</th>\n",
       "      <td>26</td>\n",
       "      <td>52</td>\n",
       "      <td>38</td>\n",
       "      <td>Sandy</td>\n",
       "      <td>Maize</td>\n",
       "      <td>37</td>\n",
       "      <td>0</td>\n",
       "      <td>0</td>\n",
       "      <td>Urea</td>\n",
       "    </tr>\n",
       "    <tr>\n",
       "      <th>1</th>\n",
       "      <td>29</td>\n",
       "      <td>52</td>\n",
       "      <td>45</td>\n",
       "      <td>Loamy</td>\n",
       "      <td>Sugarcane</td>\n",
       "      <td>12</td>\n",
       "      <td>0</td>\n",
       "      <td>36</td>\n",
       "      <td>DAP</td>\n",
       "    </tr>\n",
       "    <tr>\n",
       "      <th>2</th>\n",
       "      <td>34</td>\n",
       "      <td>65</td>\n",
       "      <td>62</td>\n",
       "      <td>Black</td>\n",
       "      <td>Cotton</td>\n",
       "      <td>7</td>\n",
       "      <td>9</td>\n",
       "      <td>30</td>\n",
       "      <td>14-35-14</td>\n",
       "    </tr>\n",
       "    <tr>\n",
       "      <th>3</th>\n",
       "      <td>32</td>\n",
       "      <td>62</td>\n",
       "      <td>34</td>\n",
       "      <td>Red</td>\n",
       "      <td>Tobacco</td>\n",
       "      <td>22</td>\n",
       "      <td>0</td>\n",
       "      <td>20</td>\n",
       "      <td>28-28</td>\n",
       "    </tr>\n",
       "    <tr>\n",
       "      <th>4</th>\n",
       "      <td>28</td>\n",
       "      <td>54</td>\n",
       "      <td>46</td>\n",
       "      <td>Clayey</td>\n",
       "      <td>Paddy</td>\n",
       "      <td>35</td>\n",
       "      <td>0</td>\n",
       "      <td>0</td>\n",
       "      <td>Urea</td>\n",
       "    </tr>\n",
       "    <tr>\n",
       "      <th>5</th>\n",
       "      <td>26</td>\n",
       "      <td>52</td>\n",
       "      <td>35</td>\n",
       "      <td>Sandy</td>\n",
       "      <td>Barley</td>\n",
       "      <td>12</td>\n",
       "      <td>10</td>\n",
       "      <td>13</td>\n",
       "      <td>17-17-17</td>\n",
       "    </tr>\n",
       "    <tr>\n",
       "      <th>6</th>\n",
       "      <td>25</td>\n",
       "      <td>50</td>\n",
       "      <td>64</td>\n",
       "      <td>Red</td>\n",
       "      <td>Cotton</td>\n",
       "      <td>9</td>\n",
       "      <td>0</td>\n",
       "      <td>10</td>\n",
       "      <td>20-20</td>\n",
       "    </tr>\n",
       "    <tr>\n",
       "      <th>7</th>\n",
       "      <td>33</td>\n",
       "      <td>64</td>\n",
       "      <td>50</td>\n",
       "      <td>Loamy</td>\n",
       "      <td>Wheat</td>\n",
       "      <td>41</td>\n",
       "      <td>0</td>\n",
       "      <td>0</td>\n",
       "      <td>Urea</td>\n",
       "    </tr>\n",
       "    <tr>\n",
       "      <th>8</th>\n",
       "      <td>30</td>\n",
       "      <td>60</td>\n",
       "      <td>42</td>\n",
       "      <td>Sandy</td>\n",
       "      <td>Millets</td>\n",
       "      <td>21</td>\n",
       "      <td>0</td>\n",
       "      <td>18</td>\n",
       "      <td>28-28</td>\n",
       "    </tr>\n",
       "    <tr>\n",
       "      <th>9</th>\n",
       "      <td>29</td>\n",
       "      <td>58</td>\n",
       "      <td>33</td>\n",
       "      <td>Black</td>\n",
       "      <td>Oil seeds</td>\n",
       "      <td>9</td>\n",
       "      <td>7</td>\n",
       "      <td>30</td>\n",
       "      <td>14-35-14</td>\n",
       "    </tr>\n",
       "  </tbody>\n",
       "</table>\n",
       "</div>"
      ],
      "text/plain": [
       "   Temparature  Humidity   Moisture Soil Type  Crop Type  Nitrogen  Potassium  \\\n",
       "0           26         52        38     Sandy      Maize        37          0   \n",
       "1           29         52        45     Loamy  Sugarcane        12          0   \n",
       "2           34         65        62     Black     Cotton         7          9   \n",
       "3           32         62        34       Red    Tobacco        22          0   \n",
       "4           28         54        46    Clayey      Paddy        35          0   \n",
       "5           26         52        35     Sandy     Barley        12         10   \n",
       "6           25         50        64       Red     Cotton         9          0   \n",
       "7           33         64        50     Loamy      Wheat        41          0   \n",
       "8           30         60        42     Sandy    Millets        21          0   \n",
       "9           29         58        33     Black  Oil seeds         9          7   \n",
       "\n",
       "   Phosphorous Fertilizer Name  \n",
       "0            0            Urea  \n",
       "1           36             DAP  \n",
       "2           30        14-35-14  \n",
       "3           20           28-28  \n",
       "4            0            Urea  \n",
       "5           13        17-17-17  \n",
       "6           10           20-20  \n",
       "7            0            Urea  \n",
       "8           18           28-28  \n",
       "9           30        14-35-14  "
      ]
     },
     "execution_count": 6,
     "metadata": {},
     "output_type": "execute_result"
    }
   ],
   "source": [
    "data = pd.read_csv(\"Fertilizer Prediction.csv\")\n",
    "data.head(10)"
   ]
  },
  {
   "cell_type": "markdown",
   "metadata": {
    "id": "t3E8A8FeeevY"
   },
   "source": [
    "Exploring the dataset"
   ]
  },
  {
   "cell_type": "code",
   "execution_count": 7,
   "metadata": {
    "colab": {
     "base_uri": "https://localhost:8080/"
    },
    "id": "CpZNNNh2cL3T",
    "outputId": "8faaf0f9-2dab-49de-fb4e-de7b71de11e2"
   },
   "outputs": [
    {
     "data": {
      "text/plain": [
       "array(['Urea', 'DAP', '14-35-14', '28-28', '17-17-17', '20-20',\n",
       "       '10-26-26'], dtype=object)"
      ]
     },
     "execution_count": 7,
     "metadata": {},
     "output_type": "execute_result"
    }
   ],
   "source": [
    "data[\"Fertilizer Name\"].unique()"
   ]
  },
  {
   "cell_type": "code",
   "execution_count": 8,
   "metadata": {
    "colab": {
     "base_uri": "https://localhost:8080/"
    },
    "id": "6BEde53ZcUV9",
    "outputId": "e6a8149a-ec52-442f-df24-6320b7ea588e"
   },
   "outputs": [
    {
     "data": {
      "text/plain": [
       "(99, 9)"
      ]
     },
     "execution_count": 8,
     "metadata": {},
     "output_type": "execute_result"
    }
   ],
   "source": [
    "data.shape"
   ]
  },
  {
   "cell_type": "code",
   "execution_count": 9,
   "metadata": {
    "colab": {
     "base_uri": "https://localhost:8080/"
    },
    "id": "fJyAjPksePuq",
    "outputId": "e52d369f-ee9b-4aab-a55a-d87f8a3bf3b3"
   },
   "outputs": [
    {
     "data": {
      "text/plain": [
       "array(['Sandy', 'Loamy', 'Black', 'Red', 'Clayey'], dtype=object)"
      ]
     },
     "execution_count": 9,
     "metadata": {},
     "output_type": "execute_result"
    }
   ],
   "source": [
    "data[\"Soil Type\"].unique()"
   ]
  },
  {
   "cell_type": "code",
   "execution_count": 10,
   "metadata": {
    "colab": {
     "base_uri": "https://localhost:8080/"
    },
    "id": "3TGJbdWheUV9",
    "outputId": "c6f39494-3bec-4bf1-8022-a81ce0c74e69"
   },
   "outputs": [
    {
     "data": {
      "text/plain": [
       "Index(['Temparature', 'Humidity ', 'Moisture', 'Soil Type', 'Crop Type',\n",
       "       'Nitrogen', 'Potassium', 'Phosphorous', 'Fertilizer Name'],\n",
       "      dtype='object')"
      ]
     },
     "execution_count": 10,
     "metadata": {},
     "output_type": "execute_result"
    }
   ],
   "source": [
    "data.columns"
   ]
  },
  {
   "cell_type": "markdown",
   "metadata": {
    "id": "PQuZmKiaekOD"
   },
   "source": [
    "Univariate Analysis"
   ]
  },
  {
   "cell_type": "code",
   "execution_count": 11,
   "metadata": {
    "colab": {
     "base_uri": "https://localhost:8080/",
     "height": 320
    },
    "id": "ho_vsqjieXmX",
    "outputId": "442d54e2-bfa4-4d76-cad5-0822fc7635ae"
   },
   "outputs": [
    {
     "data": {
      "image/png": "[encoded data removed]",
      "text/plain": [
       "<Figure size 648x360 with 1 Axes>"
      ]
     },
     "metadata": {
      "needs_background": "light"
     },
     "output_type": "display_data"
    }
   ],
   "source": [
    "labels = data[\"Fertilizer Name\"].unique()\n",
    "counts = list(data[\"Fertilizer Name\"].value_counts())\n",
    "\n",
    "plt.figure(figsize = (9,5))\n",
    "plt.barh(labels, counts)\n",
    "  \n",
    "for index, value in enumerate(counts):\n",
    "    plt.text(value, index,\n",
    "             str(value))\n",
    "plt.show()"
   ]
  },
  {
   "cell_type": "code",
   "execution_count": 12,
   "metadata": {
    "id": "VUIZXLNlej1a"
   },
   "outputs": [],
   "source": [
    "continuous_data_cols = [\"Temparature\", \"Humidity \", \"Moisture\", \"Nitrogen\", \"Phosphorous\"]\n",
    "categorical_data_cols = [\"Soil Type\", \"Crop Type\"]"
   ]
  },
  {
   "cell_type": "code",
   "execution_count": 13,
   "metadata": {
    "colab": {
     "base_uri": "https://localhost:8080/",
     "height": 1000
    },
    "id": "9bWKWrF0e1yW",
    "outputId": "5098fb7d-9b23-4922-f383-48b73d20c157"
   },
   "outputs": [
    {
     "data": {
      "image/png": "[encoded data removed]",
      "text/plain": [
       "<Figure size 1080x1080 with 4 Axes>"
      ]
     },
     "metadata": {
      "needs_background": "light"
     },
     "output_type": "display_data"
    },
    {
     "data": {
      "image/png": "[encoded data removed]",
      "text/plain": [
       "<Figure size 432x288 with 1 Axes>"
      ]
     },
     "metadata": {
      "needs_background": "light"
     },
     "output_type": "display_data"
    }
   ],
   "source": [
    "plt.figure(figsize=(15,15))\n",
    "i = 1\n",
    "for column in continuous_data_cols[:-1]:\n",
    "    plt.subplot(2,2,i)\n",
    "    sns.histplot(data[column])\n",
    "    i+=1\n",
    "plt.show()\n",
    "\n",
    "sns.histplot(data[continuous_data_cols[-1]])\n",
    "plt.show()"
   ]
  },
  {
   "cell_type": "code",
   "execution_count": 14,
   "metadata": {
    "colab": {
     "base_uri": "https://localhost:8080/",
     "height": 387
    },
    "id": "gXqs8R7ifHQv",
    "outputId": "4655a716-ebaa-4fa5-c9e2-da7a99f1286a"
   },
   "outputs": [
    {
     "data": {
      "image/png": "[encoded data removed]",
      "text/plain": [
       "<Figure size 1224x360 with 2 Axes>"
      ]
     },
     "metadata": {
      "needs_background": "light"
     },
     "output_type": "display_data"
    }
   ],
   "source": [
    "plt.figure(figsize=(17,5))\n",
    "i = 1\n",
    "for column in categorical_data_cols:\n",
    "    plt.subplot(1,2,i)\n",
    "    sns.countplot(data[column])\n",
    "    plt.xticks(rotation = 90)\n",
    "    i+=1\n",
    "plt.show()"
   ]
  },
  {
   "cell_type": "markdown",
   "metadata": {
    "id": "XriV6Vu1g0SX"
   },
   "source": [
    "Bivariate Analysis"
   ]
  },
  {
   "cell_type": "code",
   "execution_count": 15,
   "metadata": {
    "colab": {
     "base_uri": "https://localhost:8080/",
     "height": 650
    },
    "id": "pmjPpa6VfSMQ",
    "outputId": "97ef72a2-0896-4fe1-af64-1dda1e39689f"
   },
   "outputs": [
    {
     "data": {
      "image/png": "[encoded data removed]",
      "text/plain": [
       "<Figure size 936x792 with 2 Axes>"
      ]
     },
     "metadata": {
      "needs_background": "light"
     },
     "output_type": "display_data"
    }
   ],
   "source": [
    "plt.figure(figsize = (13,11))\n",
    "sns.heatmap(data[continuous_data_cols].corr(), center = 0, annot = True)\n",
    "plt.show()"
   ]
  },
  {
   "cell_type": "code",
   "execution_count": 16,
   "metadata": {
    "id": "ILoLn3_pfv7R"
   },
   "outputs": [],
   "source": [
    "soil_type_label_encoder = LabelEncoder()\n",
    "data[\"Soil Type\"] = soil_type_label_encoder.fit_transform(data[\"Soil Type\"])"
   ]
  },
  {
   "cell_type": "code",
   "execution_count": 17,
   "metadata": {
    "id": "fpbWQ93Yf1hh"
   },
   "outputs": [],
   "source": [
    "crop_type_label_encoder = LabelEncoder()\n",
    "data[\"Crop Type\"] = crop_type_label_encoder.fit_transform(data[\"Crop Type\"])"
   ]
  },
  {
   "cell_type": "code",
   "execution_count": 18,
   "metadata": {
    "colab": {
     "base_uri": "https://localhost:8080/"
    },
    "id": "hh6ZrAsIf6ep",
    "outputId": "cbfceec6-9d3e-462a-87f2-7cc17badb7f1"
   },
   "outputs": [
    {
     "name": "stdout",
     "output_type": "stream",
     "text": [
      "{0: 'Barley', 1: 'Cotton', 2: 'Ground Nuts', 3: 'Maize', 4: 'Millets', 5: 'Oil seeds', 6: 'Paddy', 7: 'Pulses', 8: 'Sugarcane', 9: 'Tobacco', 10: 'Wheat'}\n",
      "{0: 'Black', 1: 'Clayey', 2: 'Loamy', 3: 'Red', 4: 'Sandy'}\n"
     ]
    }
   ],
   "source": [
    "croptype_dict = {}\n",
    "for i in range(len(data[\"Crop Type\"].unique())):\n",
    "    croptype_dict[i] = crop_type_label_encoder.inverse_transform([i])[0]\n",
    "print(croptype_dict)\n",
    "\n",
    "soiltype_dict = {}\n",
    "for i in range(len(data[\"Soil Type\"].unique())):\n",
    "    soiltype_dict[i] = soil_type_label_encoder.inverse_transform([i])[0]\n",
    "print(soiltype_dict)"
   ]
  },
  {
   "cell_type": "code",
   "execution_count": 19,
   "metadata": {
    "id": "XTeVnRCggbWx"
   },
   "outputs": [],
   "source": [
    "fertname_label_encoder = LabelEncoder()\n",
    "data[\"Fertilizer Name\"] = fertname_label_encoder.fit_transform(data[\"Fertilizer Name\"])"
   ]
  },
  {
   "cell_type": "code",
   "execution_count": 20,
   "metadata": {
    "colab": {
     "base_uri": "https://localhost:8080/"
    },
    "id": "hIAR9T1Tgfr4",
    "outputId": "fb773b6b-8ee8-48b6-ca58-8719f57d123d"
   },
   "outputs": [
    {
     "name": "stdout",
     "output_type": "stream",
     "text": [
      "{0: '10-26-26', 1: '14-35-14', 2: '17-17-17', 3: '20-20', 4: '28-28', 5: 'DAP', 6: 'Urea'}\n"
     ]
    }
   ],
   "source": [
    "fertname_dict = {}\n",
    "for i in range(len(data[\"Fertilizer Name\"].unique())):\n",
    "    fertname_dict[i] = fertname_label_encoder.inverse_transform([i])[0]\n",
    "print(fertname_dict)"
   ]
  },
  {
   "cell_type": "code",
   "execution_count": 21,
   "metadata": {
    "colab": {
     "base_uri": "https://localhost:8080/",
     "height": 363
    },
    "id": "2CBsiGbUgmvF",
    "outputId": "8d517d8a-ea2b-41d8-acdd-afda3dd4f027"
   },
   "outputs": [
    {
     "data": {
      "text/html": [
       "<div>\n",
       "<style scoped>\n",
       "    .dataframe tbody tr th:only-of-type {\n",
       "        vertical-align: middle;\n",
       "    }\n",
       "\n",
       "    .dataframe tbody tr th {\n",
       "        vertical-align: top;\n",
       "    }\n",
       "\n",
       "    .dataframe thead th {\n",
       "        text-align: right;\n",
       "    }\n",
       "</style>\n",
       "<table border=\"1\" class=\"dataframe\">\n",
       "  <thead>\n",
       "    <tr style=\"text-align: right;\">\n",
       "      <th></th>\n",
       "      <th>Temparature</th>\n",
       "      <th>Humidity</th>\n",
       "      <th>Moisture</th>\n",
       "      <th>Soil Type</th>\n",
       "      <th>Crop Type</th>\n",
       "      <th>Nitrogen</th>\n",
       "      <th>Potassium</th>\n",
       "      <th>Phosphorous</th>\n",
       "      <th>Fertilizer Name</th>\n",
       "    </tr>\n",
       "  </thead>\n",
       "  <tbody>\n",
       "    <tr>\n",
       "      <th>0</th>\n",
       "      <td>26</td>\n",
       "      <td>52</td>\n",
       "      <td>38</td>\n",
       "      <td>4</td>\n",
       "      <td>3</td>\n",
       "      <td>37</td>\n",
       "      <td>0</td>\n",
       "      <td>0</td>\n",
       "      <td>6</td>\n",
       "    </tr>\n",
       "    <tr>\n",
       "      <th>1</th>\n",
       "      <td>29</td>\n",
       "      <td>52</td>\n",
       "      <td>45</td>\n",
       "      <td>2</td>\n",
       "      <td>8</td>\n",
       "      <td>12</td>\n",
       "      <td>0</td>\n",
       "      <td>36</td>\n",
       "      <td>5</td>\n",
       "    </tr>\n",
       "    <tr>\n",
       "      <th>2</th>\n",
       "      <td>34</td>\n",
       "      <td>65</td>\n",
       "      <td>62</td>\n",
       "      <td>0</td>\n",
       "      <td>1</td>\n",
       "      <td>7</td>\n",
       "      <td>9</td>\n",
       "      <td>30</td>\n",
       "      <td>1</td>\n",
       "    </tr>\n",
       "    <tr>\n",
       "      <th>3</th>\n",
       "      <td>32</td>\n",
       "      <td>62</td>\n",
       "      <td>34</td>\n",
       "      <td>3</td>\n",
       "      <td>9</td>\n",
       "      <td>22</td>\n",
       "      <td>0</td>\n",
       "      <td>20</td>\n",
       "      <td>4</td>\n",
       "    </tr>\n",
       "    <tr>\n",
       "      <th>4</th>\n",
       "      <td>28</td>\n",
       "      <td>54</td>\n",
       "      <td>46</td>\n",
       "      <td>1</td>\n",
       "      <td>6</td>\n",
       "      <td>35</td>\n",
       "      <td>0</td>\n",
       "      <td>0</td>\n",
       "      <td>6</td>\n",
       "    </tr>\n",
       "    <tr>\n",
       "      <th>5</th>\n",
       "      <td>26</td>\n",
       "      <td>52</td>\n",
       "      <td>35</td>\n",
       "      <td>4</td>\n",
       "      <td>0</td>\n",
       "      <td>12</td>\n",
       "      <td>10</td>\n",
       "      <td>13</td>\n",
       "      <td>2</td>\n",
       "    </tr>\n",
       "    <tr>\n",
       "      <th>6</th>\n",
       "      <td>25</td>\n",
       "      <td>50</td>\n",
       "      <td>64</td>\n",
       "      <td>3</td>\n",
       "      <td>1</td>\n",
       "      <td>9</td>\n",
       "      <td>0</td>\n",
       "      <td>10</td>\n",
       "      <td>3</td>\n",
       "    </tr>\n",
       "    <tr>\n",
       "      <th>7</th>\n",
       "      <td>33</td>\n",
       "      <td>64</td>\n",
       "      <td>50</td>\n",
       "      <td>2</td>\n",
       "      <td>10</td>\n",
       "      <td>41</td>\n",
       "      <td>0</td>\n",
       "      <td>0</td>\n",
       "      <td>6</td>\n",
       "    </tr>\n",
       "    <tr>\n",
       "      <th>8</th>\n",
       "      <td>30</td>\n",
       "      <td>60</td>\n",
       "      <td>42</td>\n",
       "      <td>4</td>\n",
       "      <td>4</td>\n",
       "      <td>21</td>\n",
       "      <td>0</td>\n",
       "      <td>18</td>\n",
       "      <td>4</td>\n",
       "    </tr>\n",
       "    <tr>\n",
       "      <th>9</th>\n",
       "      <td>29</td>\n",
       "      <td>58</td>\n",
       "      <td>33</td>\n",
       "      <td>0</td>\n",
       "      <td>5</td>\n",
       "      <td>9</td>\n",
       "      <td>7</td>\n",
       "      <td>30</td>\n",
       "      <td>1</td>\n",
       "    </tr>\n",
       "  </tbody>\n",
       "</table>\n",
       "</div>"
      ],
      "text/plain": [
       "   Temparature  Humidity   Moisture  Soil Type  Crop Type  Nitrogen  \\\n",
       "0           26         52        38          4          3        37   \n",
       "1           29         52        45          2          8        12   \n",
       "2           34         65        62          0          1         7   \n",
       "3           32         62        34          3          9        22   \n",
       "4           28         54        46          1          6        35   \n",
       "5           26         52        35          4          0        12   \n",
       "6           25         50        64          3          1         9   \n",
       "7           33         64        50          2         10        41   \n",
       "8           30         60        42          4          4        21   \n",
       "9           29         58        33          0          5         9   \n",
       "\n",
       "   Potassium  Phosphorous  Fertilizer Name  \n",
       "0          0            0                6  \n",
       "1          0           36                5  \n",
       "2          9           30                1  \n",
       "3          0           20                4  \n",
       "4          0            0                6  \n",
       "5         10           13                2  \n",
       "6          0           10                3  \n",
       "7          0            0                6  \n",
       "8          0           18                4  \n",
       "9          7           30                1  "
      ]
     },
     "execution_count": 21,
     "metadata": {},
     "output_type": "execute_result"
    }
   ],
   "source": [
    "data.head(10)"
   ]
  },
  {
   "cell_type": "code",
   "execution_count": 22,
   "metadata": {
    "id": "AAo-0lgAgozb"
   },
   "outputs": [],
   "source": [
    "X = data[data.columns[:-1]]\n",
    "y = data[data.columns[-1]]"
   ]
  },
  {
   "cell_type": "markdown",
   "metadata": {
    "id": "azx0SA1bhFTY"
   },
   "source": [
    "Unsampling Data"
   ]
  },
  {
   "cell_type": "code",
   "execution_count": 23,
   "metadata": {
    "colab": {
     "base_uri": "https://localhost:8080/"
    },
    "id": "l7vw48l2hAei",
    "outputId": "63fa602c-4c78-4e1c-c6b3-a97a8f4b53f1"
   },
   "outputs": [
    {
     "data": {
      "text/plain": [
       "Counter({6: 22, 5: 18, 1: 14, 4: 17, 2: 7, 3: 14, 0: 7})"
      ]
     },
     "execution_count": 23,
     "metadata": {},
     "output_type": "execute_result"
    }
   ],
   "source": [
    "counter = Counter(y)\n",
    "counter"
   ]
  },
  {
   "cell_type": "code",
   "execution_count": 24,
   "metadata": {
    "colab": {
     "base_uri": "https://localhost:8080/"
    },
    "id": "-je511HqhNCT",
    "outputId": "5711af36-67f2-41d7-9a42-3ee4fda10e65"
   },
   "outputs": [
    {
     "name": "stdout",
     "output_type": "stream",
     "text": [
      "Counter({6: 22, 5: 22, 1: 22, 4: 22, 2: 22, 3: 22, 0: 22})\n"
     ]
    }
   ],
   "source": [
    "upsample = SMOTE()\n",
    "X, y = upsample.fit_resample(X, y)\n",
    "counter = Counter(y)\n",
    "print(counter)"
   ]
  },
  {
   "cell_type": "code",
   "execution_count": 25,
   "metadata": {
    "colab": {
     "base_uri": "https://localhost:8080/"
    },
    "id": "-CXk0VMkhR1a",
    "outputId": "2b8f87d7-2c51-4273-a75e-2f6433a333c2"
   },
   "outputs": [
    {
     "name": "stdout",
     "output_type": "stream",
     "text": [
      "Total Data after Upsampling: 154\n"
     ]
    }
   ],
   "source": [
    "print(f\"Total Data after Upsampling: {len(X)}\")"
   ]
  },
  {
   "cell_type": "code",
   "execution_count": 26,
   "metadata": {
    "colab": {
     "base_uri": "https://localhost:8080/"
    },
    "id": "w77UZ16zhYcO",
    "outputId": "4a388b02-b2aa-40de-fbb5-28986e868406"
   },
   "outputs": [
    {
     "name": "stdout",
     "output_type": "stream",
     "text": [
      "Train Data: (123, 8), (123,)\n",
      "Train Data: (31, 8), (31,)\n"
     ]
    }
   ],
   "source": [
    "X_train, X_test, y_train, y_test = train_test_split(X.values, y, test_size = 0.2, random_state = 0)\n",
    "print(f\"Train Data: {X_train.shape}, {y_train.shape}\")\n",
    "print(f\"Train Data: {X_test.shape}, {y_test.shape}\")"
   ]
  },
  {
   "cell_type": "markdown",
   "metadata": {
    "id": "XfZfa1ZziNDF"
   },
   "source": [
    "SVM Classifier"
   ]
  },
  {
   "cell_type": "code",
   "execution_count": 27,
   "metadata": {
    "colab": {
     "base_uri": "https://localhost:8080/",
     "height": 1000
    },
    "id": "wYdep2hbiQj0",
    "outputId": "ccdef649-99f7-4fa1-e3b6-2ca8a05fe864"
   },
   "outputs": [
    {
     "name": "stdout",
     "output_type": "stream",
     "text": [
      "Accuracy on Test Data: 100.0%\n"
     ]
    },
    {
     "data": {
      "image/png": "[encoded data removed]",
      "text/plain": [
       "<Figure size 1080x648 with 2 Axes>"
      ]
     },
     "metadata": {
      "needs_background": "light"
     },
     "output_type": "display_data"
    },
    {
     "name": "stdout",
     "output_type": "stream",
     "text": [
      "\n",
      "\n",
      "\n",
      "Accuracy on Whole Data: 100.0%\n"
     ]
    },
    {
     "data": {
      "image/png": "[encoded data removed]",
      "text/plain": [
       "<Figure size 1080x648 with 2 Axes>"
      ]
     },
     "metadata": {
      "needs_background": "light"
     },
     "output_type": "display_data"
    }
   ],
   "source": [
    "svm_pipeline = make_pipeline(StandardScaler(), SVC(probability=True))\n",
    "svm_pipeline.fit(X_train, y_train)\n",
    "\n",
    "# Accuray On Test Data\n",
    "predictions = svm_pipeline.predict(X_test)\n",
    "accuracy = accuracy_score(y_test, predictions)\n",
    "print(f\"Accuracy on Test Data: {accuracy*100}%\")\n",
    "plt.figure(figsize = (15,9))\n",
    "sns.heatmap(confusion_matrix(y_test, predictions), annot = True)\n",
    "plt.title(\"Confusion Matrix for Test Data\")\n",
    "plt.show()\n",
    "print()\n",
    "print()\n",
    "print()\n",
    "# Accuray On Whole Data\n",
    "predictions = svm_pipeline.predict(X.values)\n",
    "accuracy = accuracy_score(y, predictions)\n",
    "print(f\"Accuracy on Whole Data: {accuracy*100}%\")\n",
    "plt.figure(figsize = (15,9))\n",
    "sns.heatmap(confusion_matrix(y, predictions), annot = True)\n",
    "plt.title(\"Confusion Matrix for Whole Data\")\n",
    "plt.show()"
   ]
  },
  {
   "cell_type": "code",
   "execution_count": 40,
   "metadata": {},
   "outputs": [
    {
     "name": "stdout",
     "output_type": "stream",
     "text": [
      "14-35-14\n"
     ]
    }
   ],
   "source": [
    "st = np.array([[30, 60, 63,  3,  1,  9,  9, 29]])\n",
    "st\n",
    "predictions = svm_pipeline.predict(st)\n",
    "pt=predictions[0]\n",
    "print((fertname_dict[pt]))\n"
   ]
  },
  {
   "cell_type": "code",
   "execution_count": 36,
   "metadata": {},
   "outputs": [
    {
     "name": "stdout",
     "output_type": "stream",
     "text": [
      "{0: '10-26-26', 1: '14-35-14', 2: '17-17-17', 3: '20-20', 4: '28-28', 5: 'DAP', 6: 'Urea'}\n"
     ]
    }
   ],
   "source": [
    "print(fertname_dict)"
   ]
  },
  {
   "cell_type": "code",
   "execution_count": 39,
   "metadata": {},
   "outputs": [
    {
     "name": "stdout",
     "output_type": "stream",
     "text": [
      "14-35-14\n"
     ]
    }
   ],
   "source": [
    "print((fertname_dict[1]))"
   ]
  },
  {
   "cell_type": "code",
   "execution_count": 29,
   "metadata": {},
   "outputs": [
    {
     "data": {
      "text/plain": [
       "array([[30, 60, 63,  3,  1,  9,  9, 29],\n",
       "       [29, 58, 61,  2,  1, 11,  0, 38],\n",
       "       [27, 54, 29,  1,  6, 13,  0, 39],\n",
       "       [25, 50, 38,  1,  7,  6, 18, 17],\n",
       "       [33, 64, 39,  1,  6, 13,  0, 10],\n",
       "       [33, 64, 50,  2, 10, 41,  0,  0],\n",
       "       [35, 67, 42,  4,  0, 10,  0, 35],\n",
       "       [25, 51, 36,  1,  7,  6, 16, 19],\n",
       "       [34, 65, 54,  2, 10, 38,  0,  0],\n",
       "       [28, 56, 30,  1,  4,  9,  7, 30],\n",
       "       [26, 52, 33,  1,  7, 13,  0, 13],\n",
       "       [35, 67, 28,  1,  7,  8,  7, 31],\n",
       "       [31, 62, 48,  1,  6, 11, 13, 13],\n",
       "       [31, 62, 63,  3,  1, 11, 12, 15],\n",
       "       [32, 62, 48,  2,  6,  9, 18, 17],\n",
       "       [27, 54, 30,  1,  7, 13,  0, 13],\n",
       "       [36, 68, 38,  4,  0,  7,  9, 30],\n",
       "       [31, 62, 60,  2,  2, 10, 12, 14],\n",
       "       [31, 62, 32,  3,  9, 39,  0,  0],\n",
       "       [31, 62, 60,  2,  2, 10, 12, 14],\n",
       "       [36, 60, 43,  4,  4, 15,  0, 41],\n",
       "       [30, 60, 42,  4,  4, 21,  0, 18],\n",
       "       [32, 63, 38,  1,  5, 12,  0, 10],\n",
       "       [31, 61, 45,  1,  7, 23,  0, 18],\n",
       "       [37, 70, 37,  1,  6, 12,  0, 41],\n",
       "       [31, 59, 45,  2,  3,  5, 18, 18],\n",
       "       [26, 52, 59,  2,  8, 11,  0,  9],\n",
       "       [30, 60, 49,  2, 10, 13,  0,  9],\n",
       "       [25, 50, 32,  1,  7, 24,  0, 19],\n",
       "       [26, 52, 36,  1,  7,  7, 16, 20],\n",
       "       [33, 64, 34,  1,  7, 38,  0,  0]], dtype=int64)"
      ]
     },
     "execution_count": 29,
     "metadata": {},
     "output_type": "execute_result"
    }
   ],
   "source": [
    "X_test"
   ]
  },
  {
   "cell_type": "code",
   "execution_count": 28,
   "metadata": {
    "id": "IYDYqtM6ixL-"
   },
   "outputs": [],
   "source": [
    "#save the model\n",
    "pickle.dump(svm_pipeline, open(\"svm_pipeline.pkl\", \"wb\")) "
   ]
  },
  {
   "cell_type": "code",
   "execution_count": 43,
   "metadata": {},
   "outputs": [
    {
     "name": "stdout",
     "output_type": "stream",
     "text": [
      "DAP\n"
     ]
    }
   ],
   "source": [
    "loaded_model = pickle.load(open(\"svm_pipeline.pkl\", 'rb'))\n",
    "sipt = np.array([[36, 60, 43,  4,  4, 15,  0, 41]])\n",
    "predd = loaded_model.predict(sipt)\n",
    "predicted_Fertizer=predd[0]\n",
    "print((fertname_dict[predicted_Fertizer]))\n"
   ]
  },
  {
   "cell_type": "code",
   "execution_count": null,
   "metadata": {},
   "outputs": [],
   "source": []
  }
 ],
 "metadata": {
  "colab": {
   "provenance": []
  },
  "kernelspec": {
   "display_name": "Python 3",
   "language": "python",
   "name": "python3"
  },
  "language_info": {
   "codemirror_mode": {
    "name": "ipython",
    "version": 3
   },
   "file_extension": ".py",
   "mimetype": "text/x-python",
   "name": "python",
   "nbconvert_exporter": "python",
   "pygments_lexer": "ipython3",
   "version": "3.8.5"
  }
 },
 "nbformat": 4,
 "nbformat_minor": 1
}
